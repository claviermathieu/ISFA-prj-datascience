{
 "cells": [
  {
   "cell_type": "markdown",
   "metadata": {},
   "source": [
    "# Random Forest"
   ]
  },
  {
   "cell_type": "markdown",
   "metadata": {},
   "source": [
    "D'abord nous importons toutes les librairies nécessaire à l'implémentation de la méthode sous python."
   ]
  },
  {
   "cell_type": "code",
   "execution_count": 1,
   "metadata": {},
   "outputs": [],
   "source": [
    "from sklearn.metrics import f1_score\n",
    "from sklearn.metrics import confusion_matrix\n",
    "from sklearn.model_selection import train_test_split\n",
    "from sklearn.preprocessing import StandardScaler\n",
    "\n",
    "from sklearn.ensemble import RandomForestClassifier\n",
    "\n",
    "import numpy as np\n",
    "from sklearn.model_selection import train_test_split, cross_val_score\n",
    "\n",
    "import matplotlib.pyplot as plt\n",
    "import seaborn as sns\n",
    "import pandas as pd"
   ]
  },
  {
   "cell_type": "markdown",
   "metadata": {},
   "source": [
    "Nous créons aussi deux fonctions utile pour l'évaluation de nos modèles et nous téléchargeons les données sur lesquels nous devons travailler."
   ]
  },
  {
   "cell_type": "code",
   "execution_count": 2,
   "metadata": {},
   "outputs": [],
   "source": [
    "def F1(model,X,Y) :\n",
    "    Y_model =model.predict(X)\n",
    "    f1_scor = f1_score(Y,Y_model)\n",
    "    return(f1_scor)"
   ]
  },
  {
   "cell_type": "code",
   "execution_count": 3,
   "metadata": {},
   "outputs": [],
   "source": [
    "def result_model(model,X,Y) :\n",
    "    Y_model =model.predict(X)\n",
    "\n",
    "    f1_scor = f1_score(Y,Y_model)\n",
    "    print('Le f1 score vaut',f1_scor)\n",
    "    \n",
    "#     score = cross_val_score(model,X,Y,cv=5,scoring = make_scorer(f1_score))\n",
    "#     print('F1 cross validé :', np.mean(score))\n",
    "    \n",
    "   # Matrice de confusion\n",
    "    cm_model = confusion_matrix(Y, Y_model)\n",
    "    plt.rcParams['figure.figsize'] = (5, 5)\n",
    "    sns.heatmap(cm_model, annot = True)\n",
    "    plt.title(str(model))\n",
    "    plt.show()\n",
    "    \n",
    "    # return()"
   ]
  },
  {
   "cell_type": "code",
   "execution_count": 4,
   "metadata": {},
   "outputs": [],
   "source": [
    "train = pd.read_csv(\"https://www.data.mclavier.com/prj_datascience/train_v1.csv\")"
   ]
  },
  {
   "cell_type": "code",
   "execution_count": 5,
   "metadata": {},
   "outputs": [
    {
     "data": {
      "text/html": [
       "<div>\n",
       "<style scoped>\n",
       "    .dataframe tbody tr th:only-of-type {\n",
       "        vertical-align: middle;\n",
       "    }\n",
       "\n",
       "    .dataframe tbody tr th {\n",
       "        vertical-align: top;\n",
       "    }\n",
       "\n",
       "    .dataframe thead th {\n",
       "        text-align: right;\n",
       "    }\n",
       "</style>\n",
       "<table border=\"1\" class=\"dataframe\">\n",
       "  <thead>\n",
       "    <tr style=\"text-align: right;\">\n",
       "      <th></th>\n",
       "      <th>Gender</th>\n",
       "      <th>Age</th>\n",
       "      <th>Driving_License</th>\n",
       "      <th>Region_Code</th>\n",
       "      <th>Previously_Insured</th>\n",
       "      <th>Vehicle_Age</th>\n",
       "      <th>Vehicle_Damage</th>\n",
       "      <th>Annual_Premium</th>\n",
       "      <th>Policy_Sales_Channel</th>\n",
       "      <th>Vintage</th>\n",
       "      <th>Response</th>\n",
       "    </tr>\n",
       "  </thead>\n",
       "  <tbody>\n",
       "    <tr>\n",
       "      <th>0</th>\n",
       "      <td>0</td>\n",
       "      <td>30</td>\n",
       "      <td>1</td>\n",
       "      <td>28</td>\n",
       "      <td>0</td>\n",
       "      <td>1</td>\n",
       "      <td>1</td>\n",
       "      <td>26891</td>\n",
       "      <td>3</td>\n",
       "      <td>270</td>\n",
       "      <td>1</td>\n",
       "    </tr>\n",
       "    <tr>\n",
       "      <th>1</th>\n",
       "      <td>0</td>\n",
       "      <td>28</td>\n",
       "      <td>1</td>\n",
       "      <td>28</td>\n",
       "      <td>1</td>\n",
       "      <td>0</td>\n",
       "      <td>0</td>\n",
       "      <td>45434</td>\n",
       "      <td>0</td>\n",
       "      <td>146</td>\n",
       "      <td>0</td>\n",
       "    </tr>\n",
       "    <tr>\n",
       "      <th>2</th>\n",
       "      <td>0</td>\n",
       "      <td>32</td>\n",
       "      <td>1</td>\n",
       "      <td>47</td>\n",
       "      <td>0</td>\n",
       "      <td>1</td>\n",
       "      <td>0</td>\n",
       "      <td>2630</td>\n",
       "      <td>3</td>\n",
       "      <td>195</td>\n",
       "      <td>1</td>\n",
       "    </tr>\n",
       "    <tr>\n",
       "      <th>3</th>\n",
       "      <td>0</td>\n",
       "      <td>54</td>\n",
       "      <td>1</td>\n",
       "      <td>28</td>\n",
       "      <td>0</td>\n",
       "      <td>1</td>\n",
       "      <td>0</td>\n",
       "      <td>41420</td>\n",
       "      <td>1</td>\n",
       "      <td>121</td>\n",
       "      <td>0</td>\n",
       "    </tr>\n",
       "    <tr>\n",
       "      <th>4</th>\n",
       "      <td>0</td>\n",
       "      <td>45</td>\n",
       "      <td>1</td>\n",
       "      <td>36</td>\n",
       "      <td>0</td>\n",
       "      <td>1</td>\n",
       "      <td>1</td>\n",
       "      <td>32764</td>\n",
       "      <td>2</td>\n",
       "      <td>185</td>\n",
       "      <td>1</td>\n",
       "    </tr>\n",
       "  </tbody>\n",
       "</table>\n",
       "</div>"
      ],
      "text/plain": [
       "   Gender  Age  Driving_License  Region_Code  Previously_Insured  Vehicle_Age  \\\n",
       "0       0   30                1           28                   0            1   \n",
       "1       0   28                1           28                   1            0   \n",
       "2       0   32                1           47                   0            1   \n",
       "3       0   54                1           28                   0            1   \n",
       "4       0   45                1           36                   0            1   \n",
       "\n",
       "   Vehicle_Damage  Annual_Premium  Policy_Sales_Channel  Vintage  Response  \n",
       "0               1           26891                     3      270         1  \n",
       "1               0           45434                     0      146         0  \n",
       "2               0            2630                     3      195         1  \n",
       "3               0           41420                     1      121         0  \n",
       "4               1           32764                     2      185         1  "
      ]
     },
     "execution_count": 5,
     "metadata": {},
     "output_type": "execute_result"
    }
   ],
   "source": [
    "train.head()"
   ]
  },
  {
   "cell_type": "markdown",
   "metadata": {},
   "source": [
    "# Pre-processing"
   ]
  },
  {
   "cell_type": "markdown",
   "metadata": {},
   "source": [
    "On sépare la variable à expliquer des variables explicatives."
   ]
  },
  {
   "cell_type": "code",
   "execution_count": 6,
   "metadata": {},
   "outputs": [],
   "source": [
    "# Variables explicative\n",
    "exp_var = train.columns[:-1]\n",
    "\n",
    "# Décomposition features / target\n",
    "X = train[exp_var]\n",
    "Y = train['Response']"
   ]
  },
  {
   "cell_type": "code",
   "execution_count": 7,
   "metadata": {},
   "outputs": [
    {
     "data": {
      "text/html": [
       "<div>\n",
       "<style scoped>\n",
       "    .dataframe tbody tr th:only-of-type {\n",
       "        vertical-align: middle;\n",
       "    }\n",
       "\n",
       "    .dataframe tbody tr th {\n",
       "        vertical-align: top;\n",
       "    }\n",
       "\n",
       "    .dataframe thead th {\n",
       "        text-align: right;\n",
       "    }\n",
       "</style>\n",
       "<table border=\"1\" class=\"dataframe\">\n",
       "  <thead>\n",
       "    <tr style=\"text-align: right;\">\n",
       "      <th></th>\n",
       "      <th>Gender</th>\n",
       "      <th>Age</th>\n",
       "      <th>Driving_License</th>\n",
       "      <th>Region_Code</th>\n",
       "      <th>Previously_Insured</th>\n",
       "      <th>Vehicle_Age</th>\n",
       "      <th>Vehicle_Damage</th>\n",
       "      <th>Annual_Premium</th>\n",
       "      <th>Policy_Sales_Channel</th>\n",
       "      <th>Vintage</th>\n",
       "    </tr>\n",
       "  </thead>\n",
       "  <tbody>\n",
       "    <tr>\n",
       "      <th>0</th>\n",
       "      <td>0</td>\n",
       "      <td>30</td>\n",
       "      <td>1</td>\n",
       "      <td>28</td>\n",
       "      <td>0</td>\n",
       "      <td>1</td>\n",
       "      <td>1</td>\n",
       "      <td>26891</td>\n",
       "      <td>3</td>\n",
       "      <td>270</td>\n",
       "    </tr>\n",
       "    <tr>\n",
       "      <th>1</th>\n",
       "      <td>0</td>\n",
       "      <td>28</td>\n",
       "      <td>1</td>\n",
       "      <td>28</td>\n",
       "      <td>1</td>\n",
       "      <td>0</td>\n",
       "      <td>0</td>\n",
       "      <td>45434</td>\n",
       "      <td>0</td>\n",
       "      <td>146</td>\n",
       "    </tr>\n",
       "    <tr>\n",
       "      <th>2</th>\n",
       "      <td>0</td>\n",
       "      <td>32</td>\n",
       "      <td>1</td>\n",
       "      <td>47</td>\n",
       "      <td>0</td>\n",
       "      <td>1</td>\n",
       "      <td>0</td>\n",
       "      <td>2630</td>\n",
       "      <td>3</td>\n",
       "      <td>195</td>\n",
       "    </tr>\n",
       "    <tr>\n",
       "      <th>3</th>\n",
       "      <td>0</td>\n",
       "      <td>54</td>\n",
       "      <td>1</td>\n",
       "      <td>28</td>\n",
       "      <td>0</td>\n",
       "      <td>1</td>\n",
       "      <td>0</td>\n",
       "      <td>41420</td>\n",
       "      <td>1</td>\n",
       "      <td>121</td>\n",
       "    </tr>\n",
       "    <tr>\n",
       "      <th>4</th>\n",
       "      <td>0</td>\n",
       "      <td>45</td>\n",
       "      <td>1</td>\n",
       "      <td>36</td>\n",
       "      <td>0</td>\n",
       "      <td>1</td>\n",
       "      <td>1</td>\n",
       "      <td>32764</td>\n",
       "      <td>2</td>\n",
       "      <td>185</td>\n",
       "    </tr>\n",
       "  </tbody>\n",
       "</table>\n",
       "</div>"
      ],
      "text/plain": [
       "   Gender  Age  Driving_License  Region_Code  Previously_Insured  Vehicle_Age  \\\n",
       "0       0   30                1           28                   0            1   \n",
       "1       0   28                1           28                   1            0   \n",
       "2       0   32                1           47                   0            1   \n",
       "3       0   54                1           28                   0            1   \n",
       "4       0   45                1           36                   0            1   \n",
       "\n",
       "   Vehicle_Damage  Annual_Premium  Policy_Sales_Channel  Vintage  \n",
       "0               1           26891                     3      270  \n",
       "1               0           45434                     0      146  \n",
       "2               0            2630                     3      195  \n",
       "3               0           41420                     1      121  \n",
       "4               1           32764                     2      185  "
      ]
     },
     "execution_count": 7,
     "metadata": {},
     "output_type": "execute_result"
    }
   ],
   "source": [
    "X.head()"
   ]
  },
  {
   "cell_type": "markdown",
   "metadata": {},
   "source": [
    "On sépare les données en train et test puis on les scale avec les méthodes de sklearn."
   ]
  },
  {
   "cell_type": "code",
   "execution_count": 8,
   "metadata": {},
   "outputs": [],
   "source": [
    "X_train, X_test, Y_train, Y_test = train_test_split(X, Y,train_size = 0.85)\n",
    "\n",
    "scaler=StandardScaler() \n",
    "\n",
    "X_scal_train = scaler.fit_transform(X_train)\n",
    "X_scal_test = scaler.transform(X_test) \n",
    "\n",
    "X_scal_train = pd.DataFrame(X_scal_train,index= X_train.index, columns=exp_var)\n",
    "X_scal_test = pd.DataFrame(X_scal_test,index= X_test.index, columns=exp_var)"
   ]
  },
  {
   "cell_type": "markdown",
   "metadata": {},
   "source": [
    "On fait un premier test avec les hyper-paramêtres par défaut "
   ]
  },
  {
   "cell_type": "code",
   "execution_count": 9,
   "metadata": {},
   "outputs": [
    {
     "name": "stdout",
     "output_type": "stream",
     "text": [
      "Le f1 score vaut 0.379754242246928\n"
     ]
    },
    {
     "data": {
      "image/png": "[encoded data removed]",
      "text/plain": [
       "<Figure size 360x360 with 2 Axes>"
      ]
     },
     "metadata": {
      "needs_background": "light"
     },
     "output_type": "display_data"
    }
   ],
   "source": [
    "rfc = RandomForestClassifier()\n",
    "rfc.fit(X_train, Y_train)\n",
    "Y_rfc = result_model(rfc, X_test, Y_test)"
   ]
  },
  {
   "cell_type": "code",
   "execution_count": 10,
   "metadata": {},
   "outputs": [
    {
     "data": {
      "text/plain": [
       "array([0.39772139, 0.38788193, 0.40021036, 0.40639505, 0.39623601])"
      ]
     },
     "execution_count": 10,
     "metadata": {},
     "output_type": "execute_result"
    }
   ],
   "source": [
    "cross_val_score(rfc, X_train, Y_train, cv=5, scoring='f1')"
   ]
  },
  {
   "cell_type": "markdown",
   "metadata": {},
   "source": [
    "On fait aussi l'entrainement avec les variables normalisées pour voir si les résultats différents, mais ça ne semble pas être le cas."
   ]
  },
  {
   "cell_type": "code",
   "execution_count": 11,
   "metadata": {},
   "outputs": [
    {
     "name": "stdout",
     "output_type": "stream",
     "text": [
      "Le f1 score vaut 0.40069384215091064\n"
     ]
    },
    {
     "data": {
      "image/png": "[encoded data removed]",
      "text/plain": [
       "<Figure size 360x360 with 2 Axes>"
      ]
     },
     "metadata": {
      "needs_background": "light"
     },
     "output_type": "display_data"
    }
   ],
   "source": [
    "rfc = RandomForestClassifier()\n",
    "rfc.fit(X_scal_train, Y_train)\n",
    "Y_rfc = result_model(rfc, X_scal_test, Y_test)"
   ]
  },
  {
   "cell_type": "code",
   "execution_count": 12,
   "metadata": {},
   "outputs": [
    {
     "data": {
      "text/plain": [
       "array([0.39623135, 0.3870801 , 0.39978986, 0.4083442 , 0.39113827])"
      ]
     },
     "execution_count": 12,
     "metadata": {},
     "output_type": "execute_result"
    }
   ],
   "source": [
    "cross_val_score(rfc, X_scal_train, Y_train, cv=5, scoring='f1')"
   ]
  },
  {
   "cell_type": "markdown",
   "metadata": {},
   "source": [
    "Afin d'avoir une meilleur compréhension de nos modèle on peut aussi observer quels sont les variables qui leurs apportent le plus d'informations et sont les plus importantes."
   ]
  },
  {
   "cell_type": "code",
   "execution_count": 13,
   "metadata": {},
   "outputs": [
    {
     "data": {
      "image/png": "[encoded data removed]",
      "text/plain": [
       "<Figure size 720x360 with 1 Axes>"
      ]
     },
     "metadata": {
      "needs_background": "light"
     },
     "output_type": "display_data"
    }
   ],
   "source": [
    "importances = rfc.feature_importances_\n",
    "std = np.std([tree.feature_importances_ for tree in rfc.estimators_], axis=0)\n",
    "\n",
    "feature_names = [i for i in X.columns]\n",
    "forest_importances = pd.Series(importances, index=feature_names)\n",
    "\n",
    "fig, ax = plt.subplots(figsize = (10, 5))\n",
    "forest_importances.plot.bar(yerr=std, ax=ax)\n",
    "ax.set_title(\"Feature importances\")\n",
    "ax.set_ylabel(\"Mean decrease in impurity\")\n",
    "fig.tight_layout()"
   ]
  },
  {
   "cell_type": "markdown",
   "metadata": {},
   "source": [
    "## Tuning"
   ]
  },
  {
   "cell_type": "markdown",
   "metadata": {},
   "source": [
    "## Il y'a de nombreux paramêtres à tuner :\n",
    "### Nous allons intervenir sur les paramêtres suivant et procéder dans l'ordre dans lesquels les paramêtres sont présentés\n",
    "\n",
    "n_estimatorsint, default=100, ce paramêtre correspond au nombre d'arbre, il est sans doute le plus important donc nous interviendrons deux fois dessus\n",
    "\n",
    "max_depthint, correspond à la profondeur maximal des arbres default=None\n",
    "\n",
    "min_samples_splitint, correspond au nombre de divergences nécessaire pour créer un nouveau noeud default=2\n",
    "\n",
    "min_samples_leafint, correspond au nombre minimum d'observations dans une feuille simple default=1\n",
    "\n",
    "min_impurity_decreasefloat, correspond à l'apport minimum d'une fuille pour qu'elle soit conservé default=0.0\n",
    "\n",
    "n_estimatorsint, le nombre d'arbre à nouveau, au cas où les paramêtres modifiés modifié à leur tour le nombre d'arbre optimal, default=100\n",
    "\n",
    "max_features{“auto”, “sqrt”, “log2”}, default= \"auto\", les 3 modes de calculs de features max qu'il faut tester\n",
    "\n",
    "class_weight{“balanced”, “balanced_subsample”}, default=None, les 2 options pour mettre des poids sur les observations"
   ]
  },
  {
   "cell_type": "markdown",
   "metadata": {},
   "source": [
    "#### On reprend tout d'abord le résultat de base avant de commencer notre tuning"
   ]
  },
  {
   "cell_type": "code",
   "execution_count": 14,
   "metadata": {},
   "outputs": [
    {
     "name": "stdout",
     "output_type": "stream",
     "text": [
      "Le f1 score vaut 0.3884176659842059\n"
     ]
    },
    {
     "data": {
      "image/png": "[encoded data removed]",
      "text/plain": [
       "<Figure size 360x360 with 2 Axes>"
      ]
     },
     "metadata": {
      "needs_background": "light"
     },
     "output_type": "display_data"
    }
   ],
   "source": [
    "rfc = RandomForestClassifier()\n",
    "rfc.fit(X_train, Y_train)\n",
    "Y_rfc = result_model(rfc, X_test, Y_test)"
   ]
  },
  {
   "cell_type": "markdown",
   "metadata": {},
   "source": [
    "# n_estimators\n",
    "\n",
    "La méthode que nous allons utiliser pour le tuning est très simple nous allons tester des valeurs parmi une liste, gardans la meilleur valeur avant de répéter le processus à avec les valeurs proches de l'optimum et en s'aidant de l'allure du graphe de nos F1 scores en fonction de nos paramêtre pour savoir dans quelle directions s'orienter."
   ]
  },
  {
   "cell_type": "code",
   "execution_count": 15,
   "metadata": {},
   "outputs": [],
   "source": [
    "maxi=F1(rfc, X_scal_test, Y_test)\n",
    "kmaxi=100"
   ]
  },
  {
   "cell_type": "code",
   "execution_count": 38,
   "metadata": {},
   "outputs": [
    {
     "name": "stdout",
     "output_type": "stream",
     "text": [
      "100 0.4046043165467626\n"
     ]
    },
    {
     "data": {
      "image/png": "[encoded data removed]",
      "text/plain": [
       "<Figure size 360x360 with 1 Axes>"
      ]
     },
     "metadata": {
      "needs_background": "light"
     },
     "output_type": "display_data"
    }
   ],
   "source": [
    "T=[]\n",
    "#test=[50,75,100,115,120,130,200]\n",
    "test=[50,60,70,75,80,90,95,100,105,110,120]\n",
    "for k in test:\n",
    "    rfc = RandomForestClassifier(max_depth=k)\n",
    "    rfc.fit(X_train, Y_train)\n",
    "    newF= F1(rfc, X_test, Y_test)\n",
    "    T.append(newF)\n",
    "    if newF>maxi:\n",
    "        maxi=newF\n",
    "        kmaxi=k\n",
    "print(kmaxi,maxi)\n",
    "plt.plot(test,T)\n",
    "plt.show()"
   ]
  },
  {
   "cell_type": "code",
   "execution_count": 40,
   "metadata": {},
   "outputs": [
    {
     "name": "stdout",
     "output_type": "stream",
     "text": [
      "on choissit donc 100 comme la valeur pour n_estimators_int\n"
     ]
    }
   ],
   "source": [
    "n_estimators_int=kmaxi\n",
    "print(\"on choissit donc\",kmaxi,\"comme la valeur pour\",\"n_estimators_int\")"
   ]
  },
  {
   "cell_type": "markdown",
   "metadata": {},
   "source": [
    "Nous n'observons pas de tendances sur le graphe donc nous pouvons nous arréter là, mais nous aurions aussi pû essayer de regarder aux alentours de 100 s'il y'avait de meilleurs prétendants."
   ]
  },
  {
   "cell_type": "markdown",
   "metadata": {},
   "source": [
    "# Max depth\n",
    "Nous répétons le processus pour ce paramêtre, le bridant simplement à 100 maximum"
   ]
  },
  {
   "cell_type": "code",
   "execution_count": 41,
   "metadata": {},
   "outputs": [],
   "source": [
    "maxi=F1(rfc, X_test, Y_test)\n",
    "kmaxi=100"
   ]
  },
  {
   "cell_type": "code",
   "execution_count": 42,
   "metadata": {},
   "outputs": [
    {
     "name": "stdout",
     "output_type": "stream",
     "text": [
      "130 0.40566310314937876\n"
     ]
    },
    {
     "data": {
      "image/png": "[encoded data removed]",
      "text/plain": [
       "<Figure size 360x360 with 1 Axes>"
      ]
     },
     "metadata": {
      "needs_background": "light"
     },
     "output_type": "display_data"
    }
   ],
   "source": [
    "T=[]\n",
    "#test=[1,5,10,20,100]\n",
    "#test=[20,100,200]\n",
    "#test=[70,90,95,100,105,110]\n",
    "test=[115,120,123,125,130]\n",
    "for k in test:\n",
    "    rfc = RandomForestClassifier(n_estimators=n_estimators_int,max_depth=k)\n",
    "    rfc.fit(X_train, Y_train)\n",
    "    newF= F1(rfc, X_test, Y_test)\n",
    "    T.append(newF)\n",
    "    if newF>maxi:\n",
    "        maxi=newF\n",
    "        kmaxi=k\n",
    "print(kmaxi,maxi)\n",
    "plt.plot(test,T)\n",
    "plt.show()"
   ]
  },
  {
   "cell_type": "code",
   "execution_count": 43,
   "metadata": {},
   "outputs": [
    {
     "name": "stdout",
     "output_type": "stream",
     "text": [
      "Le f1 score vaut 0.3929601846508944\n"
     ]
    },
    {
     "data": {
      "image/png": "[encoded data removed]",
      "text/plain": [
       "<Figure size 360x360 with 2 Axes>"
      ]
     },
     "metadata": {
      "needs_background": "light"
     },
     "output_type": "display_data"
    }
   ],
   "source": [
    "max_depth_int=kmaxi\n",
    "rfc = RandomForestClassifier(max_depth=max_depth_int)\n",
    "rfc.fit(X_train, Y_train)\n",
    "Y_rfc = result_model(rfc, X_test, Y_test)\n",
    "rfc.fit(X_train, Y_train)\n",
    "maxi= F1(rfc, X_test, Y_test)\n",
    "kmaxi=2"
   ]
  },
  {
   "cell_type": "markdown",
   "metadata": {},
   "source": [
    "# min_samples_split\n",
    "Nous répétons le processus pour ce paramêtre."
   ]
  },
  {
   "cell_type": "code",
   "execution_count": 44,
   "metadata": {},
   "outputs": [
    {
     "name": "stdout",
     "output_type": "stream",
     "text": [
      "3 0.40553792904528413\n"
     ]
    },
    {
     "data": {
      "image/png": "[encoded data removed]",
      "text/plain": [
       "<Figure size 360x360 with 1 Axes>"
      ]
     },
     "metadata": {
      "needs_background": "light"
     },
     "output_type": "display_data"
    }
   ],
   "source": [
    "T=[]\n",
    "test=[2,3,4,5,10,20]\n",
    "for k in test:\n",
    "    rfc = RandomForestClassifier(n_estimators=n_estimators_int,max_depth=max_depth_int,min_samples_split=k)\n",
    "    rfc.fit(X_train, Y_train)\n",
    "    newF= F1(rfc, X_test, Y_test)\n",
    "    T.append(newF)\n",
    "    if newF>maxi:\n",
    "        maxi=newF\n",
    "        kmaxi=k\n",
    "print(kmaxi,maxi)\n",
    "plt.plot(test,T)\n",
    "plt.show()"
   ]
  },
  {
   "cell_type": "code",
   "execution_count": 45,
   "metadata": {},
   "outputs": [
    {
     "name": "stdout",
     "output_type": "stream",
     "text": [
      "on choissit donc 3 comme la valeur pour min_samples_split_int\n"
     ]
    }
   ],
   "source": [
    "min_samples_split_int=kmaxi\n",
    "print(\"on choissit donc\",kmaxi,\"comme la valeur pour\",\"min_samples_split_int\")"
   ]
  },
  {
   "cell_type": "code",
   "execution_count": 46,
   "metadata": {},
   "outputs": [
    {
     "name": "stdout",
     "output_type": "stream",
     "text": [
      "Le f1 score vaut 0.39999999999999997\n"
     ]
    },
    {
     "data": {
      "image/png": "[encoded data removed]",
      "text/plain": [
       "<Figure size 360x360 with 2 Axes>"
      ]
     },
     "metadata": {
      "needs_background": "light"
     },
     "output_type": "display_data"
    }
   ],
   "source": [
    "rfc = RandomForestClassifier(n_estimators=n_estimators_int,max_depth=max_depth_int,min_samples_split=min_samples_split_int)\n",
    "rfc.fit(X_train, Y_train)\n",
    "Y_rfc = result_model(rfc, X_test, Y_test)\n",
    "maxi=F1(rfc, X_test, Y_test)\n",
    "kmaxi=1"
   ]
  },
  {
   "cell_type": "markdown",
   "metadata": {},
   "source": [
    "# min_samples_leaf\n",
    "Nous répétons le processus pour ce paramêtre."
   ]
  },
  {
   "cell_type": "code",
   "execution_count": 47,
   "metadata": {},
   "outputs": [
    {
     "name": "stdout",
     "output_type": "stream",
     "text": [
      "1 0.4024496937882765\n"
     ]
    },
    {
     "data": {
      "image/png": "[encoded data removed]",
      "text/plain": [
       "<Figure size 360x360 with 1 Axes>"
      ]
     },
     "metadata": {
      "needs_background": "light"
     },
     "output_type": "display_data"
    }
   ],
   "source": [
    "T=[]\n",
    "test=[1,2,3,4,5,10,20]\n",
    "for k in test:\n",
    "    rfc = RandomForestClassifier(n_estimators=n_estimators_int,max_depth=max_depth_int,min_samples_split=min_samples_split_int, min_samples_leaf=k)\n",
    "    rfc.fit(X_train, Y_train)\n",
    "    newF= F1(rfc, X_test, Y_test)\n",
    "    T.append(newF)\n",
    "    if newF>maxi:\n",
    "        maxi=newF\n",
    "        kmaxi=k\n",
    "print(kmaxi,maxi)\n",
    "plt.plot(test,T)\n",
    "plt.show()"
   ]
  },
  {
   "cell_type": "code",
   "execution_count": 48,
   "metadata": {},
   "outputs": [
    {
     "name": "stdout",
     "output_type": "stream",
     "text": [
      "on choissit donc 1 comme la valeur pour min_samples_leaf_int\n"
     ]
    }
   ],
   "source": [
    "min_samples_leaf_int=kmaxi\n",
    "print(\"on choissit donc\",kmaxi,\"comme la valeur pour\",\"min_samples_leaf_int\")"
   ]
  },
  {
   "cell_type": "markdown",
   "metadata": {},
   "source": [
    "# min_impurity_decrease\n",
    "Nous répétons le processus pour ce paramêtre"
   ]
  },
  {
   "cell_type": "code",
   "execution_count": 49,
   "metadata": {},
   "outputs": [
    {
     "name": "stdout",
     "output_type": "stream",
     "text": [
      "Le f1 score vaut 0.406041243101946\n"
     ]
    },
    {
     "data": {
      "image/png": "[encoded data removed]",
      "text/plain": [
       "<Figure size 360x360 with 2 Axes>"
      ]
     },
     "metadata": {
      "needs_background": "light"
     },
     "output_type": "display_data"
    }
   ],
   "source": [
    "rfc = RandomForestClassifier(n_estimators=n_estimators_int,max_depth=max_depth_int,min_samples_split=min_samples_split_int,min_samples_leaf=min_samples_leaf_int)\n",
    "rfc.fit(X_train, Y_train)\n",
    "Y_rfc = result_model(rfc, X_test, Y_test)\n",
    "maxi=F1(rfc, X_test, Y_test)\n",
    "kmaxi=0"
   ]
  },
  {
   "cell_type": "code",
   "execution_count": 50,
   "metadata": {},
   "outputs": [
    {
     "name": "stdout",
     "output_type": "stream",
     "text": [
      "0 0.406041243101946\n"
     ]
    },
    {
     "data": {
      "image/png": "[encoded data removed]",
      "text/plain": [
       "<Figure size 360x360 with 1 Axes>"
      ]
     },
     "metadata": {
      "needs_background": "light"
     },
     "output_type": "display_data"
    }
   ],
   "source": [
    "T=[]\n",
    "test=[0,0.0001,0.001,0.05,0.1]\n",
    "for k in test:\n",
    "    rfc = RandomForestClassifier(n_estimators=n_estimators_int,max_depth=max_depth_int,min_samples_split=min_samples_split_int, min_samples_leaf=min_samples_leaf_int,min_impurity_decrease=k)\n",
    "    rfc.fit(X_train, Y_train)\n",
    "    newF= F1(rfc, X_test, Y_test)\n",
    "    T.append(newF)\n",
    "    if newF>maxi:\n",
    "        maxi=newF\n",
    "        kmaxi=k\n",
    "print(kmaxi,maxi)\n",
    "plt.plot(test,T)\n",
    "plt.show()"
   ]
  },
  {
   "cell_type": "code",
   "execution_count": 51,
   "metadata": {},
   "outputs": [
    {
     "name": "stdout",
     "output_type": "stream",
     "text": [
      "on choissit donc 0 comme la valeur pour min_impurity_decrease_int\n"
     ]
    }
   ],
   "source": [
    "min_impurity_decrease_int=kmaxi\n",
    "print(\"on choissit donc\",kmaxi,\"comme la valeur pour\",\"min_impurity_decrease_int\")"
   ]
  },
  {
   "cell_type": "code",
   "execution_count": 52,
   "metadata": {},
   "outputs": [
    {
     "name": "stdout",
     "output_type": "stream",
     "text": [
      "Le f1 score vaut 0.39976891969959566\n"
     ]
    },
    {
     "data": {
      "image/png": "[encoded data removed]",
      "text/plain": [
       "<Figure size 360x360 with 2 Axes>"
      ]
     },
     "metadata": {
      "needs_background": "light"
     },
     "output_type": "display_data"
    }
   ],
   "source": [
    "rfc = RandomForestClassifier(n_estimators=n_estimators_int,max_depth=max_depth_int,min_samples_split=min_samples_split_int,min_samples_leaf=min_samples_leaf_int,min_impurity_decrease=0)\n",
    "rfc.fit(X_train, Y_train)\n",
    "Y_rfc = result_model(rfc, X_test, Y_test)\n",
    "maxi=F1(rfc, X_test, Y_test)\n",
    "kmaxi=0"
   ]
  },
  {
   "cell_type": "markdown",
   "metadata": {},
   "source": [
    "# n_estimators"
   ]
  },
  {
   "cell_type": "code",
   "execution_count": 53,
   "metadata": {},
   "outputs": [
    {
     "name": "stdout",
     "output_type": "stream",
     "text": [
      "100 0.41077055285018615\n"
     ]
    },
    {
     "data": {
      "image/png": "[encoded data removed]",
      "text/plain": [
       "<Figure size 360x360 with 1 Axes>"
      ]
     },
     "metadata": {
      "needs_background": "light"
     },
     "output_type": "display_data"
    }
   ],
   "source": [
    "T=[]\n",
    "test=[50,100,200,500]\n",
    "for k in test:\n",
    "    rfc = RandomForestClassifier(max_depth=max_depth_int,min_samples_split=min_samples_split_int, min_samples_leaf=min_samples_leaf_int,min_impurity_decrease=0,n_estimators=k)\n",
    "    rfc.fit(X_train, Y_train)\n",
    "    newF= F1(rfc, X_test, Y_test)\n",
    "    T.append(newF)\n",
    "    if newF>maxi:\n",
    "        maxi=newF\n",
    "        kmaxi=k\n",
    "print(kmaxi,maxi)\n",
    "plt.plot(test,T)\n",
    "plt.show()"
   ]
  },
  {
   "cell_type": "code",
   "execution_count": 54,
   "metadata": {},
   "outputs": [
    {
     "name": "stdout",
     "output_type": "stream",
     "text": [
      "on choissit donc 100 comme la valeur pour n_estimators_int\n"
     ]
    }
   ],
   "source": [
    "n_estimators_int=kmaxi\n",
    "print(\"on choissit donc\",kmaxi,\"comme la valeur pour\",\"n_estimators_int\")"
   ]
  },
  {
   "cell_type": "markdown",
   "metadata": {},
   "source": [
    "# max_features{“auto”, “sqrt”, “log2”}, default= \"auto\""
   ]
  },
  {
   "cell_type": "code",
   "execution_count": 55,
   "metadata": {},
   "outputs": [
    {
     "name": "stdout",
     "output_type": "stream",
     "text": [
      "avec auto F1= 0.4009256580850449\n",
      "avec sqrt F1= 0.3924746743849494\n",
      "avec log2 F1= 0.40011547344110854\n"
     ]
    }
   ],
   "source": [
    "rfc = RandomForestClassifier(max_depth=max_depth_int,min_samples_split=min_samples_split_int, min_samples_leaf=min_samples_leaf_int,min_impurity_decrease=0,n_estimators=n_estimators_int)\n",
    "rfc.fit(X_train, Y_train)\n",
    "newF= F1(rfc, X_test, Y_test)\n",
    "print(\"avec auto F1=\",newF)\n",
    "rfc = RandomForestClassifier(max_depth=max_depth_int,min_samples_split=min_samples_split_int, min_samples_leaf=min_samples_leaf_int,min_impurity_decrease=0,n_estimators=n_estimators_int,max_features=\"sqrt\")\n",
    "rfc.fit(X_train, Y_train)\n",
    "newF= F1(rfc, X_test, Y_test)\n",
    "print(\"avec sqrt F1=\",newF)\n",
    "rfc = RandomForestClassifier(max_depth=max_depth_int,min_samples_split=min_samples_split_int, min_samples_leaf=min_samples_leaf_int,min_impurity_decrease=0,n_estimators=n_estimators_int,max_features=\"log2\")\n",
    "rfc.fit(X_train, Y_train)\n",
    "newF= F1(rfc, Xl_test, Y_test)\n",
    "print(\"avec log2 F1=\",newF)"
   ]
  },
  {
   "cell_type": "markdown",
   "metadata": {},
   "source": [
    "On observe de meilleur résultat avec la valeur par défaut qui correspond au mode automatique donc nous le conservons dans notre tuning."
   ]
  },
  {
   "cell_type": "markdown",
   "metadata": {},
   "source": [
    "#### log2 semble meilleur "
   ]
  },
  {
   "cell_type": "code",
   "execution_count": 56,
   "metadata": {},
   "outputs": [
    {
     "name": "stdout",
     "output_type": "stream",
     "text": [
      "Le f1 score vaut 0.3982758620689655\n"
     ]
    },
    {
     "data": {
      "image/png": "[encoded data removed]",
      "text/plain": [
       "<Figure size 360x360 with 2 Axes>"
      ]
     },
     "metadata": {
      "needs_background": "light"
     },
     "output_type": "display_data"
    }
   ],
   "source": [
    "rfc = RandomForestClassifier(max_depth=max_depth_int,min_samples_split=min_samples_split_int,min_samples_leaf=min_samples_leaf_int,min_impurity_decrease=0,n_estimators=n_estimators_int,max_features=\"log2\")\n",
    "rfc.fit(X_train, Y_train)\n",
    "Y_rfc = result_model(rfc, X_test, Y_test)\n",
    "maxi=F1(rfc, X_test, Y_test)"
   ]
  },
  {
   "cell_type": "markdown",
   "metadata": {},
   "source": [
    "# class_weight{“balanced”, “balanced_subsample”}, default=None"
   ]
  },
  {
   "cell_type": "code",
   "execution_count": 57,
   "metadata": {},
   "outputs": [
    {
     "name": "stdout",
     "output_type": "stream",
     "text": [
      "avec auto F1= 0.40242844752818735\n",
      "avec balanced F1= 0.42964196502914237\n",
      "avec balanced_subsample F1= 0.41696700859439983\n"
     ]
    }
   ],
   "source": [
    "rfc = RandomForestClassifier(max_depth=max_depth_int,min_samples_split=min_samples_split_int,min_samples_leaf=min_samples_leaf_int,min_impurity_decrease=0,n_estimators=n_estimators_int,max_features=\"log2\")\n",
    "rfc.fit(X_train, Y_train)\n",
    "newF= F1(rfc, X_test, Y_test)\n",
    "print(\"avec auto F1=\",newF)\n",
    "rfc = RandomForestClassifier(max_depth=max_depth_int,min_samples_split=min_samples_split_int,min_samples_leaf=min_samples_leaf_int,min_impurity_decrease=0,n_estimators=n_estimators_int,max_features=\"log2\",\n",
    "                            class_weight=\"balanced\")\n",
    "rfc.fit(X_train, Y_train)\n",
    "newF= F1(rfc, X_test, Y_test)\n",
    "print(\"avec balanced F1=\",newF)\n",
    "rfc = RandomForestClassifier(max_depth=max_depth_int,min_samples_split=min_samples_split_int,min_samples_leaf=min_samples_leaf_int,min_impurity_decrease=0,n_estimators=n_estimators_int,max_features=\"log2\",\n",
    "                            class_weight=\"balanced_subsample\")\n",
    "rfc.fit(X_train, Y_train)\n",
    "newF= F1(rfc, X_test, Y_test)\n",
    "print(\"avec balanced_subsample F1=\",newF)"
   ]
  },
  {
   "cell_type": "markdown",
   "metadata": {},
   "source": [
    "nos résultats sont meilleurs avec l'option de balanced weight donc nous la conservons pour notre modèle."
   ]
  },
  {
   "cell_type": "markdown",
   "metadata": {},
   "source": [
    "# Méthode tatonement aléatoire\n",
    "Afin d'améliorer notre tuning nous pouvons aussi utilisés des méthodes aléatoires, leurs intérêts résside dans le fait qu'elle permettents des modifications plus subtil ou au contraire plus imprévisible et désorganisé que celle pensé par un humain, et donc inexploré.\n",
    "Cette version est relativement naive et ne  possède que peu d'itération mais il est possible d'en faire une méthode beaucoup plus poussé, ce code est présent uniquement à titre d'exemple."
   ]
  },
  {
   "cell_type": "code",
   "execution_count": 58,
   "metadata": {},
   "outputs": [],
   "source": [
    "def variation(param):\n",
    "    modif=np.random.randint(0,5)\n",
    "    if modif==3:\n",
    "        param[3]=param[3]*np.random.uniform(0.5,1.5)+np.random.uniform()/100\n",
    "    if modif==0 or modif==4:\n",
    "        param[modif]=int(param[modif]*np.random.uniform(0.5,1.5))+1\n",
    "    else:\n",
    "        param[modif]=param[modif]*np.random.uniform(0.5,1.5)\n",
    "    rfc = RandomForestClassifier(max_depth=param[0],min_samples_split=param[1],\n",
    "                             min_samples_leaf=param[2],min_impurity_decrease=param[3],\n",
    "                             n_estimators=param[4],max_features=\"log2\", class_weight=\"balanced\")\n",
    "    rfc.fit(X_scal_train, Y_train)\n",
    "    newF= F1(rfc, X_scal_test, Y_test)\n",
    "    return(param,newF)"
   ]
  },
  {
   "cell_type": "code",
   "execution_count": 59,
   "metadata": {},
   "outputs": [],
   "source": [
    "def variation2(param):\n",
    "    modif=np.random.randint(0,5)\n",
    "    if modif==3:\n",
    "        param[3]=param[3]*np.random.uniform(0,10)+np.random.uniform()/100\n",
    "    if modif==0 or modif==4:\n",
    "        param[modif]=int(param[modif]*np.random.uniform(0.5,5))+1\n",
    "    else:\n",
    "        param[modif]=param[modif]*np.random.uniform(0.5,1.5)\n",
    "    rfc = RandomForestClassifier(max_depth=param[0],min_samples_split=param[1],\n",
    "                             min_samples_leaf=param[2],min_impurity_decrease=param[3],\n",
    "                             n_estimators=param[4],max_features=\"log2\", class_weight=\"balanced\")\n",
    "    rfc.fit(X_scal_train, Y_train)\n",
    "    newF= F1(rfc, X_scal_test, Y_test)\n",
    "    return(param,newF)"
   ]
  },
  {
   "cell_type": "code",
   "execution_count": 60,
   "metadata": {},
   "outputs": [
    {
     "name": "stdout",
     "output_type": "stream",
     "text": [
      "[130, 0.5, 0.25, 0, 100]\n"
     ]
    }
   ],
   "source": [
    "param=[max_depth_int,0.5,0.25,min_impurity_decrease_int,n_estimators_int]\n",
    "print(param)"
   ]
  },
  {
   "cell_type": "code",
   "execution_count": 61,
   "metadata": {},
   "outputs": [
    {
     "name": "stdout",
     "output_type": "stream",
     "text": [
      "0\n",
      "1\n",
      "evolution !!!!!\n",
      "evolution !!!!!\n",
      "2\n",
      "3\n",
      "4\n",
      "evolution !!!!!\n",
      "5\n",
      "6\n",
      "7\n",
      "8\n",
      "9\n",
      "[462, 0.6809890717276842, 0.13160002688359748, 0.20373012035970045, 529]\n"
     ]
    },
    {
     "data": {
      "text/plain": [
       "[<matplotlib.lines.Line2D at 0x1c3802a3a60>]"
      ]
     },
     "execution_count": 61,
     "metadata": {},
     "output_type": "execute_result"
    },
    {
     "data": {
      "image/png": "[encoded data removed]",
      "text/plain": [
       "<Figure size 360x360 with 1 Axes>"
      ]
     },
     "metadata": {
      "needs_background": "light"
     },
     "output_type": "display_data"
    }
   ],
   "source": [
    "T=[]\n",
    "rip=0\n",
    "param=[max_depth_int,0.5,0.25,min_impurity_decrease_int,n_estimators_int]\n",
    "rfc = RandomForestClassifier(max_depth=param[0],min_samples_split=param[1],\n",
    "                             min_samples_leaf=param[2],min_impurity_decrease=param[3],\n",
    "                             n_estimators=param[4],max_features=\"log2\", class_weight=\"balanced\")\n",
    "rfc.fit(X_train, Y_train)\n",
    "newF= F1(rfc, X_test, Y_test)\n",
    "for k in range(10): #ou 100 voir 2000 pendant la nuit\n",
    "    rip=rip+1\n",
    "    print(k)\n",
    "    nparam,nF=variation(param)\n",
    "    T.append(nF)\n",
    "    if nF>newF:\n",
    "        newF=nF\n",
    "        param=nparam\n",
    "        print(\"evolution !!!!!\")\n",
    "        rip=0\n",
    "    nparam,nF=variation2(param)\n",
    "    T.append(nF)\n",
    "    if nF>newF:\n",
    "        newF=nF\n",
    "        param=nparam\n",
    "        print(\"evolution !!!!!\")\n",
    "        rip=0\n",
    "    if rip==100:\n",
    "        break\n",
    "print(param)\n",
    "plt.plot(T)\n",
    "plt.show()\n",
    "plt.show()"
   ]
  },
  {
   "cell_type": "code",
   "execution_count": 62,
   "metadata": {},
   "outputs": [
    {
     "name": "stdout",
     "output_type": "stream",
     "text": [
      "[462, 0.6809890717276842, 0.13160002688359748, 0.20373012035970045, 529]\n"
     ]
    },
    {
     "data": {
      "text/plain": [
       "[<matplotlib.lines.Line2D at 0x1c3d69f53a0>]"
      ]
     },
     "execution_count": 62,
     "metadata": {},
     "output_type": "execute_result"
    },
    {
     "data": {
      "image/png": "[encoded data removed]",
      "text/plain": [
       "<Figure size 360x360 with 1 Axes>"
      ]
     },
     "metadata": {
      "needs_background": "light"
     },
     "output_type": "display_data"
    }
   ],
   "source": [
    "print(param)\n",
    "plt.plot(T)\n",
    "plt.show()"
   ]
  },
  {
   "cell_type": "code",
   "execution_count": 63,
   "metadata": {},
   "outputs": [],
   "source": [
    "rfc = RandomForestClassifier(max_depth=param[0],min_samples_split=param[1],\n",
    "                             min_samples_leaf=param[2],min_impurity_decrease=param[3],\n",
    "                             n_estimators=param[4],max_features=\"log2\", class_weight=\"balanced\")\n",
    "rfc.fit(X_train, Y_train)\n",
    "newF= F1(rfc, X_test, Y_test)"
   ]
  },
  {
   "cell_type": "markdown",
   "metadata": {},
   "source": [
    "Au final le F1 score que nous obtenons est relativement correct sur cette base de test avec un résultat de 0.35 environ"
   ]
  },
  {
   "cell_type": "code",
   "execution_count": 64,
   "metadata": {},
   "outputs": [
    {
     "data": {
      "text/plain": [
       "0.342216941096588"
      ]
     },
     "execution_count": 64,
     "metadata": {},
     "output_type": "execute_result"
    }
   ],
   "source": [
    "newF"
   ]
  },
  {
   "cell_type": "markdown",
   "metadata": {},
   "source": [
    "Afin d'avoir une meilleur vision sur notre modèle dans un cas plus généralnous pouvons effectuer une cross validation qui prends plus de variété dans ses tests et évalutation."
   ]
  },
  {
   "cell_type": "code",
   "execution_count": 65,
   "metadata": {},
   "outputs": [
    {
     "name": "stdout",
     "output_type": "stream",
     "text": [
      "F1 moyen de 0.20 avec un écart type de 0.17\n"
     ]
    }
   ],
   "source": [
    "scores = cross_val_score(rfc, X, Y, cv=5, scoring='f1')\n",
    "print(\"F1 moyen de %0.2f avec un écart type de %0.2f\" % (scores.mean(), scores.std()))"
   ]
  },
  {
   "cell_type": "code",
   "execution_count": null,
   "metadata": {},
   "outputs": [],
   "source": []
  },
  {
   "cell_type": "code",
   "execution_count": 66,
   "metadata": {},
   "outputs": [],
   "source": [
    "rfc = RandomForestClassifier(min_samples_split=param[1],\n",
    "                             min_samples_leaf=param[2],min_impurity_decrease=param[3],\n",
    "                             n_estimators=param[4], class_weight=\"balanced\")\n",
    "rfc.fit(X_scal_train, Y_train)\n",
    "newF= F1(rfc, X_scal_test, Y_test)"
   ]
  },
  {
   "cell_type": "code",
   "execution_count": 67,
   "metadata": {},
   "outputs": [
    {
     "name": "stdout",
     "output_type": "stream",
     "text": [
      "F1 moyen de 0.20 avec un écart type de 0.17\n"
     ]
    }
   ],
   "source": [
    "scores = cross_val_score(rfc, X, Y, cv=5, scoring='f1')\n",
    "print(\"F1 moyen de %0.2f avec un écart type de %0.2f\" % (scores.mean(), scores.std()))"
   ]
  },
  {
   "cell_type": "code",
   "execution_count": null,
   "metadata": {},
   "outputs": [],
   "source": []
  }
 ],
 "metadata": {
  "kernelspec": {
   "display_name": "Python 3",
   "language": "python",
   "name": "python3"
  },
  "language_info": {
   "codemirror_mode": {
    "name": "ipython",
    "version": 3
   },
   "file_extension": ".py",
   "mimetype": "text/x-python",
   "name": "python",
   "nbconvert_exporter": "python",
   "pygments_lexer": "ipython3",
   "version": "3.8.5"
  }
 },
 "nbformat": 4,
 "nbformat_minor": 4
}
