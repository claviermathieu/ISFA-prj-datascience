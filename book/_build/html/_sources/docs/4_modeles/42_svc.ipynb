{
 "cells": [
  {
   "cell_type": "code",
   "execution_count": null,
   "id": "native-fundamental",
   "metadata": {},
   "outputs": [],
   "source": [
    "from sklearn.metrics import f1_score\n",
    "from sklearn.metrics import confusion_matrix\n",
    "from sklearn.model_selection import train_test_split\n",
    "from sklearn.preprocessing import StandardScaler\n",
    "from sklearn.svm import SVC\n",
    "from sklearn.model_selection import cross_val_score\n",
    "import matplotlib.pyplot as plt\n",
    "import seaborn as sns\n",
    "import pandas as pd"
   ]
  },
  {
   "cell_type": "code",
   "execution_count": 2,
   "id": "ignored-worship",
   "metadata": {},
   "outputs": [],
   "source": [
    "def result_model(model,X,Y) :\n",
    "    Y_model =model.predict(X)\n",
    "\n",
    "    f1_scor = f1_score(Y,Y_model)\n",
    "    print('Le f1 score vaut',f1_scor)\n",
    "    \n",
    "   # Matrice de confusion\n",
    "    cm_model = confusion_matrix(Y, Y_model)\n",
    "    plt.rcParams['figure.figsize'] = (5, 5)\n",
    "    sns.heatmap(cm_model, annot = True)\n",
    "    plt.title(str(model))\n",
    "    plt.show()\n",
    "    \n",
    "    return(Y_model)"
   ]
  },
  {
   "cell_type": "markdown",
   "id": "muslim-turkey",
   "metadata": {},
   "source": [
    "# Support Vector Classifier"
   ]
  },
  {
   "cell_type": "markdown",
   "id": "korean-nomination",
   "metadata": {},
   "source": [
    "## Téléchargement des données"
   ]
  },
  {
   "cell_type": "code",
   "execution_count": 3,
   "id": "specific-wrong",
   "metadata": {},
   "outputs": [],
   "source": [
    "train = pd.read_csv(\"https://www.data.mclavier.com/prj_datascience/train_v2.csv\")"
   ]
  },
  {
   "cell_type": "markdown",
   "id": "compact-serial",
   "metadata": {},
   "source": [
    "## Pre-processing\n",
    "On sépare la variable à expliquer des variables explicatives."
   ]
  },
  {
   "cell_type": "code",
   "execution_count": 4,
   "id": "global-lingerie",
   "metadata": {},
   "outputs": [],
   "source": [
    "X = train.drop(columns = 'Response')\n",
    "Y = train['Response']"
   ]
  },
  {
   "cell_type": "markdown",
   "id": "substantial-protocol",
   "metadata": {},
   "source": [
    "On sépare les données en train et test puis on les scale avec les méthodes de sklearn."
   ]
  },
  {
   "cell_type": "code",
   "execution_count": 5,
   "id": "possible-skirt",
   "metadata": {},
   "outputs": [],
   "source": [
    "X_train, X_test, Y_train, Y_test = train_test_split(X, Y,train_size = 0.85)\n",
    "\n",
    "scaler=StandardScaler() \n",
    "\n",
    "X_scal_train = scaler.fit_transform(X_train)\n",
    "X_scal_test = scaler.transform(X_test) \n",
    "\n",
    "X_scal_train = pd.DataFrame(X_scal_train,index= X_train.index)\n",
    "X_scal_test = pd.DataFrame(X_scal_test,index= X_test.index)"
   ]
  },
  {
   "cell_type": "markdown",
   "id": "9f9d3b8c",
   "metadata": {},
   "source": [
    "## Implémentation"
   ]
  },
  {
   "cell_type": "markdown",
   "id": "metric-impression",
   "metadata": {},
   "source": [
    "On applique ensuite directement notre modèle :"
   ]
  },
  {
   "cell_type": "code",
   "execution_count": 7,
   "id": "living-cable",
   "metadata": {},
   "outputs": [],
   "source": [
    "clf = SVC(random_state=0).fit(X_scal_train, Y_train)\n",
    "result_model(clf, X_scal_test, Y_test)"
   ]
  },
  {
   "cell_type": "markdown",
   "id": "pOaf_hMs6AhO",
   "metadata": {
    "id": "pOaf_hMs6AhO"
   },
   "source": [
    "En testant avec de la cross-validation les résultats ne sont améliorés."
   ]
  },
  {
   "cell_type": "code",
   "execution_count": null,
   "id": "geNRLLgb6GLX",
   "metadata": {
    "colab": {
     "base_uri": "https://localhost:8080/"
    },
    "executionInfo": {
     "elapsed": 1266,
     "status": "ok",
     "timestamp": 1641632263908,
     "user": {
      "displayName": "Mathieu Clavier",
      "photoUrl": "https://lh3.googleusercontent.com/a-/AOh14GiIdYzEewVVg1x0yjwpGvjEhielgQI-F5VjrTRYRA=s64",
      "userId": "12657577188044157870"
     },
     "user_tz": -60
    },
    "id": "geNRLLgb6GLX",
    "outputId": "54ffb834-1d2a-4f5a-eb52-3b562811080b"
   },
   "outputs": [
    {
     "name": "stdout",
     "output_type": "stream",
     "text": [
      "F1 moyen de 0.22 avec un écart type de 0.02\n"
     ]
    }
   ],
   "source": [
    "X_scal = scaler.fit_transform(X)\n",
    "\n",
    "clf = SVC(random_state=0)\n",
    "scores = cross_val_score(clf, X_scal, Y, cv=5, scoring='f1')\n",
    "print(\"F1 moyen de %0.2f avec un écart type de %0.2f\" % (scores.mean(), scores.std()))"
   ]
  },
  {
   "cell_type": "markdown",
   "id": "e602b291",
   "metadata": {},
   "source": [
    "## Conclusion"
   ]
  },
  {
   "cell_type": "markdown",
   "id": "vital-color",
   "metadata": {},
   "source": [
    "Ici encore le résultat n'est pas satisfaisant, on retrouve le même comportement que pour la régression logistique, pis encore, l'entrainement du SVC est beaucoup plus long que la détermination des coefficients de la régression, qui elle est presque instantanée. On constate encore bien que, quand bien même quelques entrées sont classées en 1, elles représentent une infime partie du jeu de données, de plus autant d'entrées classées en 1 sont correctement classées qu'incorrectement, ce qui laisse à penser que le modèle est complètement inefficace sur ce front."
   ]
  }
 ],
 "metadata": {
  "kernelspec": {
   "display_name": "Python 3",
   "language": "python",
   "name": "python3"
  },
  "language_info": {
   "codemirror_mode": {
    "name": "ipython",
    "version": 3
   },
   "file_extension": ".py",
   "mimetype": "text/x-python",
   "name": "python",
   "nbconvert_exporter": "python",
   "pygments_lexer": "ipython3",
   "version": "3.8.10"
  }
 },
 "nbformat": 4,
 "nbformat_minor": 5
}
