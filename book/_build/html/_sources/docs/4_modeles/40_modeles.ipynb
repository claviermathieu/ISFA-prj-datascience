{
 "cells": [
  {
   "cell_type": "markdown",
   "metadata": {},
   "source": [
    "# Implémentation des modèles"
   ]
  },
  {
   "cell_type": "markdown",
   "metadata": {},
   "source": [
    "Pour ce projet, nous allons étudiés 7 modèles.\n",
    "\n",
    "- Logistique\n",
    "- SVC\n",
    "- CART\n",
    "- Random Forest\n",
    "- Neural Network\n",
    "- Gradient Boosting\n",
    "- XGBoost\n",
    "\n",
    "\n",
    "\n",
    "Certains modèles sont beaucoup plus efficaces que d'autres. Les modèles les plus basiques seront exécutés rapidement sans chercher à tuner les paramètres. L'objectif est ici de proposer un panel d'implémentation de différents modèles.\n",
    "\n",
    "<br>\n",
    "\n",
    "Nous passerons plus de temps à optimiser les modèles comme :\n",
    "- Random Forest\n",
    "- Neural Network\n",
    "- XGBoost\n",
    "\n",
    "\n",
    "<br>\n",
    "\n",
    "**Modèle finale**\n",
    "\n",
    "Le modèle final sera une nouvelle fois présenté dans la partie 5. Cette partie permettra de présenter le modèle final une fois la phase de tuning déjà réalisée.\n",
    "\n",
    "\n",
    "<br><br>\n",
    "<br><br>"
   ]
  }
 ],
 "metadata": {
  "language_info": {
   "name": "python"
  },
  "orig_nbformat": 4
 },
 "nbformat": 4,
 "nbformat_minor": 2
}
