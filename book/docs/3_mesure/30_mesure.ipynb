{
 "cells": [
  {
   "cell_type": "markdown",
   "metadata": {},
   "source": [
    "# Mesure"
   ]
  },
  {
   "cell_type": "markdown",
   "metadata": {},
   "source": [
    "## F1-Score"
   ]
  },
  {
   "cell_type": "markdown",
   "metadata": {},
   "source": [
    "D'après les consignes pour le projet. Le critère quantitatif appliqué pour évaluer le pouvoir prédictif de nos modèles sera le F1-score : \n",
    "\n",
    "$$\n",
    "F_1 = 2 \\times \\frac{\\text{précision} \\times \\text{rappel}}{\\text{précision} + \\text{rappel}}\n",
    "$$\n",
    "\n",
    "avec\n",
    "\n",
    "$$\n",
    "\\text{précision} = \\frac{VP}{(VP + FP)} \\qquad et \\qquad \\text{rappel} = \\frac{VP}{(VP + FN)}\n",
    "$$"
   ]
  },
  {
   "cell_type": "markdown",
   "metadata": {},
   "source": [
    "<br><br>\n",
    "\n",
    "**Sur Python**\n",
    "\n",
    "\n",
    "Le package *sklearn* permet d'introduire beaucoup de mesures. La mesure f1_score est notamment disponible."
   ]
  },
  {
   "cell_type": "code",
   "execution_count": 1,
   "metadata": {},
   "outputs": [],
   "source": [
    "from sklearn.metrics import f1_score, make_scorer"
   ]
  },
  {
   "cell_type": "markdown",
   "metadata": {},
   "source": [
    "Voici d'autres mesures disponibles avec le package *sklearn* \n",
    "\n",
    "- matthews_corrcoef\n",
    "- roc_auc_score\n",
    "- confusion_matrix\n",
    "- accuracy_score\n",
    "- r2_score"
   ]
  },
  {
   "cell_type": "markdown",
   "metadata": {},
   "source": [
    "## Comparer les modèles"
   ]
  },
  {
   "cell_type": "code",
   "execution_count": 3,
   "metadata": {},
   "outputs": [],
   "source": [
    "a = 'bonjour'"
   ]
  },
  {
   "cell_type": "markdown",
   "metadata": {},
   "source": []
  }
 ],
 "metadata": {
  "interpreter": {
   "hash": "8536a1d5f7f073ab2b87ee94fe56bb746448e07633258de3c3a5cefdedc25c5c"
  },
  "kernelspec": {
   "display_name": "Python 3.8.10 64-bit ('ISFA-prj-datascience-4Z2Vzt1R': pipenv)",
   "language": "python",
   "name": "python3"
  },
  "language_info": {
   "codemirror_mode": {
    "name": "ipython",
    "version": 3
   },
   "file_extension": ".py",
   "mimetype": "text/x-python",
   "name": "python",
   "nbconvert_exporter": "python",
   "pygments_lexer": "ipython3",
   "version": "3.8.10"
  },
  "orig_nbformat": 4
 },
 "nbformat": 4,
 "nbformat_minor": 2
}
