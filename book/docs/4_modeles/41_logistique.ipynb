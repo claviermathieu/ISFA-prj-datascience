{
 "cells": [
  {
   "cell_type": "code",
   "execution_count": 7,
   "id": "native-fundamental",
   "metadata": {
    "executionInfo": {
     "elapsed": 214,
     "status": "ok",
     "timestamp": 1641631302240,
     "user": {
      "displayName": "Mathieu Clavier",
      "photoUrl": "https://lh3.googleusercontent.com/a-/AOh14GiIdYzEewVVg1x0yjwpGvjEhielgQI-F5VjrTRYRA=s64",
      "userId": "12657577188044157870"
     },
     "user_tz": -60
    },
    "id": "native-fundamental",
    "tags": [
     "remove-cell"
    ]
   },
   "outputs": [],
   "source": [
    "from sklearn.metrics import f1_score\n",
    "from sklearn.metrics import confusion_matrix\n",
    "from sklearn.model_selection import train_test_split\n",
    "from sklearn.preprocessing import StandardScaler\n",
    "from sklearn.linear_model import LogisticRegression\n",
    "from sklearn.model_selection import cross_val_score\n",
    "import matplotlib.pyplot as plt\n",
    "import seaborn as sns\n",
    "import pandas as pd\n",
    "\n",
    "\n",
    "def result_model(model,X,Y) :\n",
    "    Y_model =model.predict(X)\n",
    "\n",
    "    f1_scor = f1_score(Y,Y_model)\n",
    "    print('Le f1 score vaut',f1_scor)\n",
    "    \n",
    "   # Matrice de confusion\n",
    "    cm_model = confusion_matrix(Y, Y_model)\n",
    "    plt.rcParams['figure.figsize'] = (5, 5)\n",
    "    sns.heatmap(cm_model, annot = True)\n",
    "    plt.title(str(model))\n",
    "    plt.show()\n",
    "    \n",
    "    return(Y_model)"
   ]
  },
  {
   "cell_type": "markdown",
   "id": "muslim-turkey",
   "metadata": {
    "id": "muslim-turkey"
   },
   "source": [
    "# Logistique"
   ]
  },
  {
   "cell_type": "markdown",
   "id": "korean-nomination",
   "metadata": {
    "id": "korean-nomination"
   },
   "source": [
    "## Téléchargement des données"
   ]
  },
  {
   "cell_type": "code",
   "execution_count": 15,
   "id": "specific-wrong",
   "metadata": {
    "executionInfo": {
     "elapsed": 1899,
     "status": "ok",
     "timestamp": 1641631471889,
     "user": {
      "displayName": "Mathieu Clavier",
      "photoUrl": "https://lh3.googleusercontent.com/a-/AOh14GiIdYzEewVVg1x0yjwpGvjEhielgQI-F5VjrTRYRA=s64",
      "userId": "12657577188044157870"
     },
     "user_tz": -60
    },
    "id": "specific-wrong"
   },
   "outputs": [],
   "source": [
    "train = pd.read_csv(\"https://www.data.mclavier.com/prj_datascience/train_v2.csv\")"
   ]
  },
  {
   "cell_type": "markdown",
   "id": "compact-serial",
   "metadata": {
    "id": "compact-serial"
   },
   "source": [
    "## Pre-processing\n",
    "On sépare la variable à expliquer des variables explicatives."
   ]
  },
  {
   "cell_type": "code",
   "execution_count": 16,
   "id": "global-lingerie",
   "metadata": {
    "executionInfo": {
     "elapsed": 5,
     "status": "ok",
     "timestamp": 1641631471890,
     "user": {
      "displayName": "Mathieu Clavier",
      "photoUrl": "https://lh3.googleusercontent.com/a-/AOh14GiIdYzEewVVg1x0yjwpGvjEhielgQI-F5VjrTRYRA=s64",
      "userId": "12657577188044157870"
     },
     "user_tz": -60
    },
    "id": "global-lingerie"
   },
   "outputs": [],
   "source": [
    "X = train.drop(columns = 'Response')\n",
    "Y = train['Response']"
   ]
  },
  {
   "cell_type": "markdown",
   "id": "substantial-protocol",
   "metadata": {
    "id": "substantial-protocol"
   },
   "source": [
    "On sépare les données en train et test puis on les scale avec les méthodes de sklearn."
   ]
  },
  {
   "cell_type": "code",
   "execution_count": 17,
   "id": "possible-skirt",
   "metadata": {
    "executionInfo": {
     "elapsed": 235,
     "status": "ok",
     "timestamp": 1641631472121,
     "user": {
      "displayName": "Mathieu Clavier",
      "photoUrl": "https://lh3.googleusercontent.com/a-/AOh14GiIdYzEewVVg1x0yjwpGvjEhielgQI-F5VjrTRYRA=s64",
      "userId": "12657577188044157870"
     },
     "user_tz": -60
    },
    "id": "possible-skirt",
    "tags": [
     "hide-input"
    ]
   },
   "outputs": [],
   "source": [
    "X_train, X_test, Y_train, Y_test = train_test_split(X, Y,train_size = 0.85)\n",
    "\n",
    "scaler=StandardScaler() \n",
    "\n",
    "X_scal_train = scaler.fit_transform(X_train)\n",
    "X_scal_test = scaler.transform(X_test) \n",
    "\n",
    "X_scal_train = pd.DataFrame(X_scal_train,index= X_train.index)\n",
    "X_scal_test = pd.DataFrame(X_scal_test,index= X_test.index)"
   ]
  },
  {
   "cell_type": "markdown",
   "id": "metric-impression",
   "metadata": {
    "id": "metric-impression"
   },
   "source": [
    "## Implémentation\n",
    "\n",
    "On applique ensuite directement notre modèle :"
   ]
  },
  {
   "cell_type": "code",
   "execution_count": 18,
   "id": "living-cable",
   "metadata": {
    "colab": {
     "base_uri": "https://localhost:8080/",
     "height": 355
    },
    "executionInfo": {
     "elapsed": 622,
     "status": "ok",
     "timestamp": 1641631472740,
     "user": {
      "displayName": "Mathieu Clavier",
      "photoUrl": "https://lh3.googleusercontent.com/a-/AOh14GiIdYzEewVVg1x0yjwpGvjEhielgQI-F5VjrTRYRA=s64",
      "userId": "12657577188044157870"
     },
     "user_tz": -60
    },
    "id": "living-cable",
    "outputId": "5544c461-bb8d-4aa1-b5d3-999f371f54d3"
   },
   "outputs": [
    {
     "name": "stdout",
     "output_type": "stream",
     "text": [
      "Le f1 score vaut 0.19243156199677938\n"
     ]
    },
    {
     "data": {
      "image/png": "[encoded data removed]",
      "text/plain": [
       "<Figure size 360x360 with 2 Axes>"
      ]
     },
     "metadata": {
      "needs_background": "light"
     },
     "output_type": "display_data"
    }
   ],
   "source": [
    "clf = LogisticRegression(random_state=0).fit(X_scal_train, Y_train)\n",
    "f1 = result_model(clf, X_scal_test, Y_test)"
   ]
  },
  {
   "cell_type": "markdown",
   "id": "pOaf_hMs6AhO",
   "metadata": {
    "id": "pOaf_hMs6AhO"
   },
   "source": [
    "En testant avec de la cross-validation les résultats ne sont améliorés."
   ]
  },
  {
   "cell_type": "code",
   "execution_count": 38,
   "id": "geNRLLgb6GLX",
   "metadata": {
    "colab": {
     "base_uri": "https://localhost:8080/"
    },
    "executionInfo": {
     "elapsed": 1266,
     "status": "ok",
     "timestamp": 1641632263908,
     "user": {
      "displayName": "Mathieu Clavier",
      "photoUrl": "https://lh3.googleusercontent.com/a-/AOh14GiIdYzEewVVg1x0yjwpGvjEhielgQI-F5VjrTRYRA=s64",
      "userId": "12657577188044157870"
     },
     "user_tz": -60
    },
    "id": "geNRLLgb6GLX",
    "outputId": "54ffb834-1d2a-4f5a-eb52-3b562811080b",
    "tags": [
     "hide-input"
    ]
   },
   "outputs": [
    {
     "name": "stdout",
     "output_type": "stream",
     "text": [
      "F1 moyen de 0.22 avec un écart type de 0.02\n"
     ]
    }
   ],
   "source": [
    "X_scal = scaler.fit_transform(X)\n",
    "\n",
    "clf = LogisticRegression(random_state=0)\n",
    "scores = cross_val_score(clf, X_scal, Y, cv=5, scoring='f1')\n",
    "print(\"F1 moyen de %0.2f avec un écart type de %0.2f\" % (scores.mean(), scores.std()))"
   ]
  },
  {
   "cell_type": "markdown",
   "id": "94b5dd02",
   "metadata": {},
   "source": [
    "## Conclusion"
   ]
  },
  {
   "cell_type": "markdown",
   "id": "vital-color",
   "metadata": {
    "id": "vital-color"
   },
   "source": [
    "Le résultat est, sans surprise majeure, peu satisfaisant, la régression logistique (qui, on rappelle, est l'équivalent de la régression linéaire en classification) n'est pas un modèle robuste, peu adapté à l'étude de données complexes. Si la précision naïve (% de bonnes précisions/% de mauvaises) est sauvée par l'importante proportion de Response = 0 ce n'est pas le cas du f1_score. On constate que le modèle est très déséquilibré et tend à presque tout classer dans la catégorie 0. \n",
    "\n",
    "\n",
    "<br><br><br><br>"
   ]
  }
 ],
 "metadata": {
  "celltoolbar": "Edit Metadata",
  "colab": {
   "name": "Logistique.ipynb",
   "provenance": []
  },
  "kernelspec": {
   "display_name": "Python 3 (ipykernel)",
   "language": "python",
   "name": "python3"
  },
  "language_info": {
   "codemirror_mode": {
    "name": "ipython",
    "version": 3
   },
   "file_extension": ".py",
   "mimetype": "text/x-python",
   "name": "python",
   "nbconvert_exporter": "python",
   "pygments_lexer": "ipython3",
   "version": "3.8.10"
  }
 },
 "nbformat": 4,
 "nbformat_minor": 5
}
